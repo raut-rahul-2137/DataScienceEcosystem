{
 "cells": [
  {
   "cell_type": "markdown",
   "id": "3438e238",
   "metadata": {},
   "source": [
    "# Data Science Tools and Ecosystem"
   ]
  },
  {
   "cell_type": "markdown",
   "id": "d7d770a5",
   "metadata": {},
   "source": [
    "In this notebook, Data Science Tools and Ecosystem are summarized."
   ]
  },
  {
   "cell_type": "markdown",
   "id": "3da84f43",
   "metadata": {},
   "source": [
    "Some of the popular languages that Data Scientists use are:"
   ]
  },
  {
   "cell_type": "markdown",
   "id": "49c6c6a9",
   "metadata": {},
   "source": [
    "1) Python\n",
    "\n",
    "2) R\n",
    "\n",
    "3) SQL\n",
    "\n",
    "4) Java\n",
    "\n",
    "5) SAS"
   ]
  },
  {
   "cell_type": "markdown",
   "id": "c5f2d57c",
   "metadata": {},
   "source": [
    "**Objectives:**"
   ]
  },
  {
   "cell_type": "markdown",
   "id": "0d15e39d",
   "metadata": {},
   "source": [
    "List popular languages for Data Science.\n",
    "\n",
    "* Python\n",
    "* R\n",
    "* SQL\n",
    "* Julia\n",
    "* Java\n",
    "* Scala\n",
    "* MATLAB\n",
    "* SAS"
   ]
  },
  {
   "cell_type": "markdown",
   "id": "5cdf4278",
   "metadata": {},
   "source": [
    "Some of the commonly used libraries used by Data Scientists include:\n"
   ]
  },
  {
   "cell_type": "markdown",
   "id": "bdadbca9",
   "metadata": {},
   "source": [
    "1) Pandas\n",
    "\n",
    "2) NumPy\n",
    "\n",
    "3) Scikit-learn\n",
    "\n",
    "4) Matplotlib\n",
    "\n",
    "5) TensorFlow"
   ]
  },
  {
   "cell_type": "markdown",
   "id": "bbed87b5",
   "metadata": {},
   "source": [
    "|Data Science Tools|\n",
    "|------------------|\n",
    "|Jupyter Notebook|\n",
    "|RStudio|\n",
    "|Apache Zeppelin|"
   ]
  },
  {
   "cell_type": "code",
   "execution_count": 4,
   "id": "1e9cde6d",
   "metadata": {},
   "outputs": [
    {
     "data": {
      "text/plain": [
       "17"
      ]
     },
     "execution_count": 4,
     "metadata": {},
     "output_type": "execute_result"
    }
   ],
   "source": [
    "# This is a simple arithmetic expression to multiply then add integers\n",
    "(3*4) + 5\n"
   ]
  },
  {
   "cell_type": "code",
   "execution_count": 5,
   "id": "2c38ad93",
   "metadata": {},
   "outputs": [
    {
     "data": {
      "text/plain": [
       "3.3333333333333335"
      ]
     },
     "execution_count": 5,
     "metadata": {},
     "output_type": "execute_result"
    }
   ],
   "source": [
    "# This will convert 200 minutes to hours by dividing by 60\n",
    "\n",
    "200 / 60\n",
    "\n"
   ]
  },
  {
   "cell_type": "code",
   "execution_count": null,
   "id": "f48ecf7c",
   "metadata": {},
   "outputs": [],
   "source": []
  }
 ],
 "metadata": {
  "kernelspec": {
   "display_name": "Python 3 (ipykernel)",
   "language": "python",
   "name": "python3"
  },
  "language_info": {
   "codemirror_mode": {
    "name": "ipython",
    "version": 3
   },
   "file_extension": ".py",
   "mimetype": "text/x-python",
   "name": "python",
   "nbconvert_exporter": "python",
   "pygments_lexer": "ipython3",
   "version": "3.11.5"
  }
 },
 "nbformat": 4,
 "nbformat_minor": 5
}
